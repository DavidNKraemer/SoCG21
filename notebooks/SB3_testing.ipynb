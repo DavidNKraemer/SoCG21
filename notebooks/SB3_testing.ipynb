{
 "cells": [
  {
   "cell_type": "code",
   "execution_count": 1,
   "id": "5fe7545a-0f7d-409a-a802-581fa668ea30",
   "metadata": {},
   "outputs": [],
   "source": [
    "%load_ext autoreload\n",
    "%autoreload 2"
   ]
  },
  {
   "cell_type": "code",
   "execution_count": 8,
   "id": "1d3b21e3-9e34-4ab6-9e2e-281e805d7848",
   "metadata": {},
   "outputs": [],
   "source": [
    "import numpy as np\n",
    "import stable_baselines3 as sb\n",
    "from copy import deepcopy\n",
    "\n",
    "from src.envs import board"
   ]
  },
  {
   "cell_type": "code",
   "execution_count": 35,
   "id": "aae68be1-9cc9-4654-86d2-19a09537c4a8",
   "metadata": {},
   "outputs": [],
   "source": [
    "starts = np.array([[0, 0], [3, 0], [3, 3]])\n",
    "targets = np.array([[3, 0], [0, 0], [0, 3]])\n",
    "obstacles = np.array([[1, 1]])\n",
    "env = board.env(starts, targets, obstacles, max_timesteps=10).unwrapped.to_gym()"
   ]
  },
  {
   "cell_type": "code",
   "execution_count": 36,
   "id": "1cfe3183-acc4-4ea5-b548-5f55ff785ad3",
   "metadata": {},
   "outputs": [
    {
     "name": "stdout",
     "output_type": "stream",
     "text": [
      "Using cpu device\n",
      "Wrapping the env with a `Monitor` wrapper\n",
      "Wrapping the env in a DummyVecEnv.\n"
     ]
    }
   ],
   "source": [
    "model = sb.DQN('MultiInputPolicy', env, verbose=2)"
   ]
  },
  {
   "cell_type": "code",
   "execution_count": 37,
   "id": "24bc8088-a9e5-4ad4-8e6c-257e03dc1bb0",
   "metadata": {},
   "outputs": [],
   "source": [
    "from stable_baselines3.common.callbacks import EvalCallback\n",
    "eval_env = deepcopy(env)\n",
    "eval_callback = EvalCallback(eval_env,\n",
    "                             n_eval_episodes=1,\n",
    "                             eval_freq=10,\n",
    "                             best_model_save_path='./logs/',\n",
    "                             log_path='./logs/',\n",
    "                             deterministic=True, render=False)"
   ]
  },
  {
   "cell_type": "code",
   "execution_count": null,
   "id": "47752b82-ace6-446d-8054-70bee670c4d5",
   "metadata": {},
   "outputs": [],
   "source": [
    "model = sb.DQN('MultiInputPolicy', env, verbose=2)\n",
    "model.learn(10000, callback=eval_callback)"
   ]
  },
  {
   "cell_type": "code",
   "execution_count": 41,
   "id": "52a3579b-2c2b-4b08-876c-aa065fa91e0c",
   "metadata": {},
   "outputs": [
    {
     "name": "stdout",
     "output_type": "stream",
     "text": [
      "[[[0 0 0 ... 0 0 0]\n",
      "  [0 0 0 ... 0 0 0]\n",
      "  [0 0 0 ... 0 0 0]\n",
      "  ...\n",
      "  [0 0 0 ... 0 0 0]\n",
      "  [0 0 0 ... 0 0 0]\n",
      "  [0 0 0 ... 0 0 0]]\n",
      "\n",
      " [[0 0 0 ... 0 0 0]\n",
      "  [0 0 0 ... 0 0 0]\n",
      "  [0 0 0 ... 0 0 0]\n",
      "  ...\n",
      "  [0 0 0 ... 0 0 0]\n",
      "  [0 0 0 ... 0 0 0]\n",
      "  [0 0 0 ... 0 0 0]]\n",
      "\n",
      " [[0 0 0 ... 0 0 0]\n",
      "  [0 0 0 ... 0 0 0]\n",
      "  [0 0 0 ... 0 0 0]\n",
      "  ...\n",
      "  [0 0 0 ... 0 0 0]\n",
      "  [0 0 0 ... 0 0 0]\n",
      "  [0 0 0 ... 0 0 0]]]\n"
     ]
    },
    {
     "data": {
      "text/plain": [
       "<matplotlib.image.AxesImage at 0x7f30ab635910>"
      ]
     },
     "execution_count": 41,
     "metadata": {},
     "output_type": "execute_result"
    },
    {
     "data": {
      "image/png": "[encoded data removed]",
      "text/plain": [
       "<Figure size 432x288 with 1 Axes>"
      ]
     },
     "metadata": {
      "needs_background": "light"
     },
     "output_type": "display_data"
    }
   ],
   "source": [
    "env.reset()\n",
    "print(env.state['bot_0'])\n",
    "import matplotlib.pyplot as plt\n",
    "plt.imshow(env.state['bot_0'][0])"
   ]
  }
 ],
 "metadata": {
  "kernelspec": {
   "display_name": "Python 3 (ipykernel)",
   "language": "python",
   "name": "python3"
  },
  "language_info": {
   "codemirror_mode": {
    "name": "ipython",
    "version": 3
   },
   "file_extension": ".py",
   "mimetype": "text/x-python",
   "name": "python",
   "nbconvert_exporter": "python",
   "pygments_lexer": "ipython3",
   "version": "3.7.11"
  }
 },
 "nbformat": 4,
 "nbformat_minor": 5
}
