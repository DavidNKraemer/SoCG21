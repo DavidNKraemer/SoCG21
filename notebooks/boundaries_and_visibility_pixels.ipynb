{
 "cells": [
  {
   "cell_type": "code",
   "execution_count": 1,
   "id": "243dd2d5-95c8-4b2c-9207-c5e818f98a04",
   "metadata": {},
   "outputs": [],
   "source": [
    "import numpy as np\n",
    "import plotly.graph_objects as go\n",
    "from collections.abc import Mapping"
   ]
  },
  {
   "cell_type": "code",
   "execution_count": 2,
   "id": "1166c415-21e4-4ef7-8dd0-9561687c68ea",
   "metadata": {},
   "outputs": [],
   "source": [
    "def update(d, u):\n",
    "    \"\"\"\n",
    "    Update the dictionary d from the values of u, recursively with nesteded\n",
    "    values if needed.\n",
    "    \"\"\"\n",
    "    for k, v in u.items():\n",
    "        if isinstance(v, Mapping):\n",
    "            d[k] = update(d.get(k, {}), v)\n",
    "        else:\n",
    "            d[k] = v\n",
    "    return d"
   ]
  },
  {
   "cell_type": "markdown",
   "id": "d9d94b06-2277-4891-a863-1ed2eceeca4a",
   "metadata": {},
   "source": [
    "# Part 1: Fast computation of $L_\\infty$ boundaries"
   ]
  },
  {
   "cell_type": "markdown",
   "id": "43a99801-78b2-4b4d-afaf-322e1fc23ca8",
   "metadata": {},
   "source": [
    "The first task is to implement a fast (i.e., linear, NumPy-enhanced) $L_\\infty$ boundary calculator. For an integer radius $r > 0$, there are $8r$ pixels on the boundary of the $L_\\infty$ ball of radius $r$. The below code implements a function that computes the boundary."
   ]
  },
  {
   "cell_type": "code",
   "execution_count": 3,
   "id": "e83b6464-28a9-4414-a058-7f63c02c8087",
   "metadata": {},
   "outputs": [],
   "source": [
    "def boundary(dist):\n",
    "    \"\"\"\n",
    "    Returns a generator of the L_infinity sphere of radius `dist`\n",
    "\n",
    "    The sphere is the *boundary* of the ball.\n",
    "\n",
    "    Params\n",
    "    ------\n",
    "    dist: int\n",
    "        radius (discrete)\n",
    "\n",
    "    Returns\n",
    "    -------\n",
    "    pixels: generator\n",
    "        all pixels with L_infinity distance equalling `dist`\n",
    "\n",
    "    \"\"\"\n",
    "    sphere = []  # L_infinity sphere\n",
    "\n",
    "    directions = np.array([[1, 0], [0, 1], [-1, 0], [0, -1]])\n",
    "    next_directions = np.roll(directions, 1, axis=0)\n",
    "\n",
    "    for direction, next_direction in zip(directions, next_directions):\n",
    "        # unit vector for the parallel axis of the current direction\n",
    "        parallel = (direction != 0).astype(int)\n",
    "        \n",
    "        # unit vector for the orthogonal axis of the current direction\n",
    "        orthogonal = (direction == 0).astype(int)\n",
    "        \n",
    "        # forward or backward in the parallel axis\n",
    "        sign = int(direction[parallel == 1])\n",
    "\n",
    "        # compute one side of the boundary\n",
    "        sequence = np.arange(-dist+1, dist)\n",
    "        tiles = sign * dist * parallel + sequence.reshape((-1, 1)) * orthogonal\n",
    "        \n",
    "        # compute the corner separately... it's just easier this way\n",
    "        corner = dist * (direction + next_direction)\n",
    "\n",
    "        sphere += list(tiles) + [corner]\n",
    "\n",
    "    return np.array(sphere)"
   ]
  },
  {
   "cell_type": "markdown",
   "id": "946c0b6f-e10c-4b27-8164-edf03f5a26f8",
   "metadata": {},
   "source": [
    "# Part 2: Compute the \"visibility pixel\" between the origin and target"
   ]
  },
  {
   "cell_type": "markdown",
   "id": "e91f803c-49c5-4d20-95ba-d952b44eee66",
   "metadata": {},
   "source": [
    "Next, compute the representation of the target pixel in the visibility radius of the origin. If the target pixel is within the radius, the target itself is the correct pixel. Otherwise, we compute the L2-distance minimizing path from origin to target, and find its intersection with the boundary of the neighborhood. The closest boundary pixel to this intersection is the \"visibility pixel\"."
   ]
  },
  {
   "cell_type": "code",
   "execution_count": 57,
   "id": "cd8760f2-f113-4cda-8096-c8c83cf4e032",
   "metadata": {},
   "outputs": [],
   "source": [
    "def get_visibility_pixel(origin, target, radius):\n",
    "    \"\"\"\n",
    "    Given an origin pixel, target pixel, and neighborhood radius, compute the\n",
    "    pixel that represents the \"visual perception\" of the target in the\n",
    "    neighborhood. \n",
    "    \n",
    "    Either the target pixel is *in* the neighborhood, in which case, the target\n",
    "    is the perception pixel, or the target pixel is outside the neighborhood,\n",
    "    in which case we have to find the boundary pixel in the path between the\n",
    "    orign and target.\n",
    "    \"\"\"\n",
    "    diff = target - origin\n",
    "    linf_dist = np.abs(diff).max()\n",
    "    \n",
    "    if linf_dist <= radius:\n",
    "        return target\n",
    "    \n",
    "    else:\n",
    "        pixels = boundary(radius) + origin\n",
    "        \n",
    "        # \"true\" location of the intersection of the path and the boundary\n",
    "        intersection = origin + (radius / linf_dist) * diff\n",
    "        \n",
    "        # distances between the true intersection and the boundary pixels\n",
    "        distances = np.linalg.norm(pixels - intersection, axis=1, ord=2)\n",
    "        \n",
    "        index = np.argmin(distances)\n",
    "        \n",
    "        return pixels[index]"
   ]
  },
  {
   "cell_type": "code",
   "execution_count": 60,
   "id": "cd735a12-56bb-40f9-9bba-143fee2f8270",
   "metadata": {
    "jupyter": {
     "source_hidden": true
    },
    "tags": []
   },
   "outputs": [],
   "source": [
    "def draw_pixel(fig, pixel, **kwargs):\n",
    "    fig.add_shape(\n",
    "        type='rect',\n",
    "        x0=pixel[0]-0.5, y0=pixel[1]-0.5,\n",
    "        x1=pixel[0]+0.5, y1=pixel[1]+0.5,\n",
    "        **kwargs\n",
    "    )\n",
    "    \n",
    "def draw_neighborhood(fig, origin, radius, **kwargs):\n",
    "    fig.add_shape(\n",
    "        type='rect',\n",
    "        x0=origin[0] - radius - 0.5, y0=origin[1] - radius - 0.5,\n",
    "        x1=origin[0] + radius + 0.5, y1=origin[1] + radius + 0.5,\n",
    "        **kwargs\n",
    "    )\n",
    "    \n",
    "def draw_segment(fig, origin, target, **kwargs):\n",
    "    default_kwargs = {\n",
    "        'line': {\n",
    "            'width': 3\n",
    "        }\n",
    "    }\n",
    "    kwargs = update(default_kwargs, kwargs)\n",
    "    \n",
    "    fig.add_shape(\n",
    "        type='line',\n",
    "        x0=origin[0], y0=origin[1],\n",
    "        x1=target[0], y1=target[1],\n",
    "        **kwargs\n",
    "    )\n",
    "\n",
    "def plot_intersection(origin, target, radius):\n",
    "    box = max(np.abs(target).max(), (origin + radius).max()) + 1\n",
    "\n",
    "    intersection = get_visibility_pixel(origin, target, radius)\n",
    "\n",
    "    fig = go.Figure()\n",
    "\n",
    "    draw_neighborhood(fig, origin, radius, fillcolor='#aaaaff')\n",
    "    draw_segment(fig, origin, target, line=dict(color='#ffffff'))\n",
    "    draw_pixel(fig, origin, line=dict(color='#0000ff'), fillcolor='#4444ff')\n",
    "    draw_pixel(fig, target, line=dict(color='#ff0000'), fillcolor='#ff4444')\n",
    "    draw_pixel(fig, intersection, line=dict(color='#00ff00'), fillcolor='#44ff44')\n",
    "    \n",
    "    fig.update_layout(\n",
    "        template='plotly_dark',\n",
    "        yaxis=dict(\n",
    "            scaleanchor='x',\n",
    "            scaleratio=1,\n",
    "            range=(-box, box)\n",
    "        ),\n",
    "        height=600\n",
    "    )\n",
    "    \n",
    "    return fig\n",
    "\n",
    "def plot_random_intersections(origin, radius, n_targets, rand_rad=20):\n",
    "    box = radius + 1\n",
    "\n",
    "    fig = go.Figure()\n",
    "\n",
    "    draw_neighborhood(fig, origin, radius, fillcolor='#aaaaff')\n",
    "    draw_pixel(fig, origin, line=dict(color='#0000ff'), fillcolor='#4444ff')\n",
    "    \n",
    "    for _ in range(n_targets):\n",
    "        target = np.random.randint(-rand_rad, rand_rad+1, size=(2,))\n",
    "        box = max(box, np.abs(target).max() + 1)\n",
    "        intersection = get_visibility_pixel(origin, target, radius)\n",
    "        \n",
    "        draw_segment(fig, origin, target, line=dict(color='#ffffff'))\n",
    "        draw_pixel(fig, target, line=dict(color='#ff0000'), fillcolor='#ff4444')\n",
    "        draw_pixel(fig, intersection, line=dict(color='#00ff00'), fillcolor='#44ff44')\n",
    "    \n",
    "    fig.update_layout(\n",
    "        template='plotly_dark',\n",
    "        yaxis=dict(\n",
    "            scaleanchor='x',\n",
    "            scaleratio=1,\n",
    "            range=(origin[1]-box, origin[1]+box)\n",
    "        ),\n",
    "        xaxis=dict(\n",
    "            range=(origin[0]-box, origin[1]+box)\n",
    "        ),\n",
    "        height=600\n",
    "    )\n",
    "    \n",
    "    return fig"
   ]
  },
  {
   "cell_type": "code",
   "execution_count": 66,
   "id": "ff27908e-c89a-4b04-ae0a-a947cc5b01d2",
   "metadata": {},
   "outputs": [
    {
     "data": {
      "application/vnd.plotly.v1+json": {
       "config": {
        "plotlyServerURL": "https://plot.ly"
       },
       "data": [],
       "layout": {
        "autosize": true,
        "dragmode": "pan",
        "shapes": [
         {
          "fillcolor": "#aaaaff",
          "type": "rect",
          "x0": -9.5,
          "x1": 1.5,
          "y0": -9.5,
          "y1": 1.5
         },
         {
          "fillcolor": "#4444ff",
          "line": {
           "color": "#0000ff"
          },
          "type": "rect",
          "x0": -4.5,
          "x1": -3.5,
          "y0": -4.5,
          "y1": -3.5
         },
         {
          "line": {
           "color": "#ffffff",
           "width": 3
          },
          "type": "line",
          "x0": -4,
          "x1": -17,
          "y0": -4,
          "y1": 10
         },
         {
          "fillcolor": "#ff4444",
          "line": {
           "color": "#ff0000"
          },
          "type": "rect",
          "x0": -17.5,
          "x1": -16.5,
          "y0": 9.5,
          "y1": 10.5
         },
         {
          "fillcolor": "#44ff44",
          "line": {
           "color": "#00ff00"
          },
          "type": "rect",
          "x0": -9.5,
          "x1": -8.5,
          "y0": 0.5,
          "y1": 1.5
         },
         {
          "line": {
           "color": "#ffffff",
           "width": 3
          },
          "type": "line",
          "x0": -4,
          "x1": -9,
          "y0": -4,
          "y1": 13
         },
         {
          "fillcolor": "#ff4444",
          "line": {
           "color": "#ff0000"
          },
          "type": "rect",
          "x0": -9.5,
          "x1": -8.5,
          "y0": 12.5,
          "y1": 13.5
         },
         {
          "fillcolor": "#44ff44",
          "line": {
           "color": "#00ff00"
          },
          "type": "rect",
          "x0": -5.5,
          "x1": -4.5,
          "y0": 0.5,
          "y1": 1.5
         },
         {
          "line": {
           "color": "#ffffff",
           "width": 3
          },
          "type": "line",
          "x0": -4,
          "x1": 6,
          "y0": -4,
          "y1": 13
         },
         {
          "fillcolor": "#ff4444",
          "line": {
           "color": "#ff0000"
          },
          "type": "rect",
          "x0": 5.5,
          "x1": 6.5,
          "y0": 12.5,
          "y1": 13.5
         },
         {
          "fillcolor": "#44ff44",
          "line": {
           "color": "#00ff00"
          },
          "type": "rect",
          "x0": -1.5,
          "x1": -0.5,
          "y0": 0.5,
          "y1": 1.5
         },
         {
          "line": {
           "color": "#ffffff",
           "width": 3
          },
          "type": "line",
          "x0": -4,
          "x1": -4,
          "y0": -4,
          "y1": 12
         },
         {
          "fillcolor": "#ff4444",
          "line": {
           "color": "#ff0000"
          },
          "type": "rect",
          "x0": -4.5,
          "x1": -3.5,
          "y0": 11.5,
          "y1": 12.5
         },
         {
          "fillcolor": "#44ff44",
          "line": {
           "color": "#00ff00"
          },
          "type": "rect",
          "x0": -4.5,
          "x1": -3.5,
          "y0": 0.5,
          "y1": 1.5
         },
         {
          "line": {
           "color": "#ffffff",
           "width": 3
          },
          "type": "line",
          "x0": -4,
          "x1": -14,
          "y0": -4,
          "y1": 2
         },
         {
          "fillcolor": "#ff4444",
          "line": {
           "color": "#ff0000"
          },
          "type": "rect",
          "x0": -14.5,
          "x1": -13.5,
          "y0": 1.5,
          "y1": 2.5
         },
         {
          "fillcolor": "#44ff44",
          "line": {
           "color": "#00ff00"
          },
          "type": "rect",
          "x0": -9.5,
          "x1": -8.5,
          "y0": -1.5,
          "y1": -0.5
         },
         {
          "line": {
           "color": "#ffffff",
           "width": 3
          },
          "type": "line",
          "x0": -4,
          "x1": 11,
          "y0": -4,
          "y1": -4
         },
         {
          "fillcolor": "#ff4444",
          "line": {
           "color": "#ff0000"
          },
          "type": "rect",
          "x0": 10.5,
          "x1": 11.5,
          "y0": -4.5,
          "y1": -3.5
         },
         {
          "fillcolor": "#44ff44",
          "line": {
           "color": "#00ff00"
          },
          "type": "rect",
          "x0": 0.5,
          "x1": 1.5,
          "y0": -4.5,
          "y1": -3.5
         },
         {
          "line": {
           "color": "#ffffff",
           "width": 3
          },
          "type": "line",
          "x0": -4,
          "x1": -3,
          "y0": -4,
          "y1": 13
         },
         {
          "fillcolor": "#ff4444",
          "line": {
           "color": "#ff0000"
          },
          "type": "rect",
          "x0": -3.5,
          "x1": -2.5,
          "y0": 12.5,
          "y1": 13.5
         },
         {
          "fillcolor": "#44ff44",
          "line": {
           "color": "#00ff00"
          },
          "type": "rect",
          "x0": -4.5,
          "x1": -3.5,
          "y0": 0.5,
          "y1": 1.5
         },
         {
          "line": {
           "color": "#ffffff",
           "width": 3
          },
          "type": "line",
          "x0": -4,
          "x1": -18,
          "y0": -4,
          "y1": 6
         },
         {
          "fillcolor": "#ff4444",
          "line": {
           "color": "#ff0000"
          },
          "type": "rect",
          "x0": -18.5,
          "x1": -17.5,
          "y0": 5.5,
          "y1": 6.5
         },
         {
          "fillcolor": "#44ff44",
          "line": {
           "color": "#00ff00"
          },
          "type": "rect",
          "x0": -9.5,
          "x1": -8.5,
          "y0": -0.5,
          "y1": 0.5
         },
         {
          "line": {
           "color": "#ffffff",
           "width": 3
          },
          "type": "line",
          "x0": -4,
          "x1": -1,
          "y0": -4,
          "y1": 7
         },
         {
          "fillcolor": "#ff4444",
          "line": {
           "color": "#ff0000"
          },
          "type": "rect",
          "x0": -1.5,
          "x1": -0.5,
          "y0": 6.5,
          "y1": 7.5
         },
         {
          "fillcolor": "#44ff44",
          "line": {
           "color": "#00ff00"
          },
          "type": "rect",
          "x0": -3.5,
          "x1": -2.5,
          "y0": 0.5,
          "y1": 1.5
         },
         {
          "line": {
           "color": "#ffffff",
           "width": 3
          },
          "type": "line",
          "x0": -4,
          "x1": 11,
          "y0": -4,
          "y1": 2
         },
         {
          "fillcolor": "#ff4444",
          "line": {
           "color": "#ff0000"
          },
          "type": "rect",
          "x0": 10.5,
          "x1": 11.5,
          "y0": 1.5,
          "y1": 2.5
         },
         {
          "fillcolor": "#44ff44",
          "line": {
           "color": "#00ff00"
          },
          "type": "rect",
          "x0": 0.5,
          "x1": 1.5,
          "y0": -2.5,
          "y1": -1.5
         },
         {
          "line": {
           "color": "#ffffff",
           "width": 3
          },
          "type": "line",
          "x0": -4,
          "x1": 2,
          "y0": -4,
          "y1": -17
         },
         {
          "fillcolor": "#ff4444",
          "line": {
           "color": "#ff0000"
          },
          "type": "rect",
          "x0": 1.5,
          "x1": 2.5,
          "y0": -17.5,
          "y1": -16.5
         },
         {
          "fillcolor": "#44ff44",
          "line": {
           "color": "#00ff00"
          },
          "type": "rect",
          "x0": -2.5,
          "x1": -1.5,
          "y0": -9.5,
          "y1": -8.5
         },
         {
          "line": {
           "color": "#ffffff",
           "width": 3
          },
          "type": "line",
          "x0": -4,
          "x1": -2,
          "y0": -4,
          "y1": 2
         },
         {
          "fillcolor": "#ff4444",
          "line": {
           "color": "#ff0000"
          },
          "type": "rect",
          "x0": -2.5,
          "x1": -1.5,
          "y0": 1.5,
          "y1": 2.5
         },
         {
          "fillcolor": "#44ff44",
          "line": {
           "color": "#00ff00"
          },
          "type": "rect",
          "x0": -2.5,
          "x1": -1.5,
          "y0": 0.5,
          "y1": 1.5
         },
         {
          "line": {
           "color": "#ffffff",
           "width": 3
          },
          "type": "line",
          "x0": -4,
          "x1": 12,
          "y0": -4,
          "y1": 20
         },
         {
          "fillcolor": "#ff4444",
          "line": {
           "color": "#ff0000"
          },
          "type": "rect",
          "x0": 11.5,
          "x1": 12.5,
          "y0": 19.5,
          "y1": 20.5
         },
         {
          "fillcolor": "#44ff44",
          "line": {
           "color": "#00ff00"
          },
          "type": "rect",
          "x0": -1.5,
          "x1": -0.5,
          "y0": 0.5,
          "y1": 1.5
         },
         {
          "line": {
           "color": "#ffffff",
           "width": 3
          },
          "type": "line",
          "x0": -4,
          "x1": -4,
          "y0": -4,
          "y1": 5
         },
         {
          "fillcolor": "#ff4444",
          "line": {
           "color": "#ff0000"
          },
          "type": "rect",
          "x0": -4.5,
          "x1": -3.5,
          "y0": 4.5,
          "y1": 5.5
         },
         {
          "fillcolor": "#44ff44",
          "line": {
           "color": "#00ff00"
          },
          "type": "rect",
          "x0": -4.5,
          "x1": -3.5,
          "y0": 0.5,
          "y1": 1.5
         },
         {
          "line": {
           "color": "#ffffff",
           "width": 3
          },
          "type": "line",
          "x0": -4,
          "x1": -11,
          "y0": -4,
          "y1": 19
         },
         {
          "fillcolor": "#ff4444",
          "line": {
           "color": "#ff0000"
          },
          "type": "rect",
          "x0": -11.5,
          "x1": -10.5,
          "y0": 18.5,
          "y1": 19.5
         },
         {
          "fillcolor": "#44ff44",
          "line": {
           "color": "#00ff00"
          },
          "type": "rect",
          "x0": -6.5,
          "x1": -5.5,
          "y0": 0.5,
          "y1": 1.5
         }
        ],
        "template": {
         "data": {
          "bar": [
           {
            "error_x": {
             "color": "#f2f5fa"
            },
            "error_y": {
             "color": "#f2f5fa"
            },
            "marker": {
             "line": {
              "color": "rgb(17,17,17)",
              "width": 0.5
             },
             "pattern": {
              "fillmode": "overlay",
              "size": 10,
              "solidity": 0.2
             }
            },
            "type": "bar"
           }
          ],
          "barpolar": [
           {
            "marker": {
             "line": {
              "color": "rgb(17,17,17)",
              "width": 0.5
             },
             "pattern": {
              "fillmode": "overlay",
              "size": 10,
              "solidity": 0.2
             }
            },
            "type": "barpolar"
           }
          ],
          "carpet": [
           {
            "aaxis": {
             "endlinecolor": "#A2B1C6",
             "gridcolor": "#506784",
             "linecolor": "#506784",
             "minorgridcolor": "#506784",
             "startlinecolor": "#A2B1C6"
            },
            "baxis": {
             "endlinecolor": "#A2B1C6",
             "gridcolor": "#506784",
             "linecolor": "#506784",
             "minorgridcolor": "#506784",
             "startlinecolor": "#A2B1C6"
            },
            "type": "carpet"
           }
          ],
          "choropleth": [
           {
            "colorbar": {
             "outlinewidth": 0,
             "ticks": ""
            },
            "type": "choropleth"
           }
          ],
          "contour": [
           {
            "colorbar": {
             "outlinewidth": 0,
             "ticks": ""
            },
            "colorscale": [
             [
              0,
              "#0d0887"
             ],
             [
              0.1111111111111111,
              "#46039f"
             ],
             [
              0.2222222222222222,
              "#7201a8"
             ],
             [
              0.3333333333333333,
              "#9c179e"
             ],
             [
              0.4444444444444444,
              "#bd3786"
             ],
             [
              0.5555555555555556,
              "#d8576b"
             ],
             [
              0.6666666666666666,
              "#ed7953"
             ],
             [
              0.7777777777777778,
              "#fb9f3a"
             ],
             [
              0.8888888888888888,
              "#fdca26"
             ],
             [
              1,
              "#f0f921"
             ]
            ],
            "type": "contour"
           }
          ],
          "contourcarpet": [
           {
            "colorbar": {
             "outlinewidth": 0,
             "ticks": ""
            },
            "type": "contourcarpet"
           }
          ],
          "heatmap": [
           {
            "colorbar": {
             "outlinewidth": 0,
             "ticks": ""
            },
            "colorscale": [
             [
              0,
              "#0d0887"
             ],
             [
              0.1111111111111111,
              "#46039f"
             ],
             [
              0.2222222222222222,
              "#7201a8"
             ],
             [
              0.3333333333333333,
              "#9c179e"
             ],
             [
              0.4444444444444444,
              "#bd3786"
             ],
             [
              0.5555555555555556,
              "#d8576b"
             ],
             [
              0.6666666666666666,
              "#ed7953"
             ],
             [
              0.7777777777777778,
              "#fb9f3a"
             ],
             [
              0.8888888888888888,
              "#fdca26"
             ],
             [
              1,
              "#f0f921"
             ]
            ],
            "type": "heatmap"
           }
          ],
          "heatmapgl": [
           {
            "colorbar": {
             "outlinewidth": 0,
             "ticks": ""
            },
            "colorscale": [
             [
              0,
              "#0d0887"
             ],
             [
              0.1111111111111111,
              "#46039f"
             ],
             [
              0.2222222222222222,
              "#7201a8"
             ],
             [
              0.3333333333333333,
              "#9c179e"
             ],
             [
              0.4444444444444444,
              "#bd3786"
             ],
             [
              0.5555555555555556,
              "#d8576b"
             ],
             [
              0.6666666666666666,
              "#ed7953"
             ],
             [
              0.7777777777777778,
              "#fb9f3a"
             ],
             [
              0.8888888888888888,
              "#fdca26"
             ],
             [
              1,
              "#f0f921"
             ]
            ],
            "type": "heatmapgl"
           }
          ],
          "histogram": [
           {
            "marker": {
             "pattern": {
              "fillmode": "overlay",
              "size": 10,
              "solidity": 0.2
             }
            },
            "type": "histogram"
           }
          ],
          "histogram2d": [
           {
            "colorbar": {
             "outlinewidth": 0,
             "ticks": ""
            },
            "colorscale": [
             [
              0,
              "#0d0887"
             ],
             [
              0.1111111111111111,
              "#46039f"
             ],
             [
              0.2222222222222222,
              "#7201a8"
             ],
             [
              0.3333333333333333,
              "#9c179e"
             ],
             [
              0.4444444444444444,
              "#bd3786"
             ],
             [
              0.5555555555555556,
              "#d8576b"
             ],
             [
              0.6666666666666666,
              "#ed7953"
             ],
             [
              0.7777777777777778,
              "#fb9f3a"
             ],
             [
              0.8888888888888888,
              "#fdca26"
             ],
             [
              1,
              "#f0f921"
             ]
            ],
            "type": "histogram2d"
           }
          ],
          "histogram2dcontour": [
           {
            "colorbar": {
             "outlinewidth": 0,
             "ticks": ""
            },
            "colorscale": [
             [
              0,
              "#0d0887"
             ],
             [
              0.1111111111111111,
              "#46039f"
             ],
             [
              0.2222222222222222,
              "#7201a8"
             ],
             [
              0.3333333333333333,
              "#9c179e"
             ],
             [
              0.4444444444444444,
              "#bd3786"
             ],
             [
              0.5555555555555556,
              "#d8576b"
             ],
             [
              0.6666666666666666,
              "#ed7953"
             ],
             [
              0.7777777777777778,
              "#fb9f3a"
             ],
             [
              0.8888888888888888,
              "#fdca26"
             ],
             [
              1,
              "#f0f921"
             ]
            ],
            "type": "histogram2dcontour"
           }
          ],
          "mesh3d": [
           {
            "colorbar": {
             "outlinewidth": 0,
             "ticks": ""
            },
            "type": "mesh3d"
           }
          ],
          "parcoords": [
           {
            "line": {
             "colorbar": {
              "outlinewidth": 0,
              "ticks": ""
             }
            },
            "type": "parcoords"
           }
          ],
          "pie": [
           {
            "automargin": true,
            "type": "pie"
           }
          ],
          "scatter": [
           {
            "marker": {
             "line": {
              "color": "#283442"
             }
            },
            "type": "scatter"
           }
          ],
          "scatter3d": [
           {
            "line": {
             "colorbar": {
              "outlinewidth": 0,
              "ticks": ""
             }
            },
            "marker": {
             "colorbar": {
              "outlinewidth": 0,
              "ticks": ""
             }
            },
            "type": "scatter3d"
           }
          ],
          "scattercarpet": [
           {
            "marker": {
             "colorbar": {
              "outlinewidth": 0,
              "ticks": ""
             }
            },
            "type": "scattercarpet"
           }
          ],
          "scattergeo": [
           {
            "marker": {
             "colorbar": {
              "outlinewidth": 0,
              "ticks": ""
             }
            },
            "type": "scattergeo"
           }
          ],
          "scattergl": [
           {
            "marker": {
             "line": {
              "color": "#283442"
             }
            },
            "type": "scattergl"
           }
          ],
          "scattermapbox": [
           {
            "marker": {
             "colorbar": {
              "outlinewidth": 0,
              "ticks": ""
             }
            },
            "type": "scattermapbox"
           }
          ],
          "scatterpolar": [
           {
            "marker": {
             "colorbar": {
              "outlinewidth": 0,
              "ticks": ""
             }
            },
            "type": "scatterpolar"
           }
          ],
          "scatterpolargl": [
           {
            "marker": {
             "colorbar": {
              "outlinewidth": 0,
              "ticks": ""
             }
            },
            "type": "scatterpolargl"
           }
          ],
          "scatterternary": [
           {
            "marker": {
             "colorbar": {
              "outlinewidth": 0,
              "ticks": ""
             }
            },
            "type": "scatterternary"
           }
          ],
          "surface": [
           {
            "colorbar": {
             "outlinewidth": 0,
             "ticks": ""
            },
            "colorscale": [
             [
              0,
              "#0d0887"
             ],
             [
              0.1111111111111111,
              "#46039f"
             ],
             [
              0.2222222222222222,
              "#7201a8"
             ],
             [
              0.3333333333333333,
              "#9c179e"
             ],
             [
              0.4444444444444444,
              "#bd3786"
             ],
             [
              0.5555555555555556,
              "#d8576b"
             ],
             [
              0.6666666666666666,
              "#ed7953"
             ],
             [
              0.7777777777777778,
              "#fb9f3a"
             ],
             [
              0.8888888888888888,
              "#fdca26"
             ],
             [
              1,
              "#f0f921"
             ]
            ],
            "type": "surface"
           }
          ],
          "table": [
           {
            "cells": {
             "fill": {
              "color": "#506784"
             },
             "line": {
              "color": "rgb(17,17,17)"
             }
            },
            "header": {
             "fill": {
              "color": "#2a3f5f"
             },
             "line": {
              "color": "rgb(17,17,17)"
             }
            },
            "type": "table"
           }
          ]
         },
         "layout": {
          "annotationdefaults": {
           "arrowcolor": "#f2f5fa",
           "arrowhead": 0,
           "arrowwidth": 1
          },
          "autotypenumbers": "strict",
          "coloraxis": {
           "colorbar": {
            "outlinewidth": 0,
            "ticks": ""
           }
          },
          "colorscale": {
           "diverging": [
            [
             0,
             "#8e0152"
            ],
            [
             0.1,
             "#c51b7d"
            ],
            [
             0.2,
             "#de77ae"
            ],
            [
             0.3,
             "#f1b6da"
            ],
            [
             0.4,
             "#fde0ef"
            ],
            [
             0.5,
             "#f7f7f7"
            ],
            [
             0.6,
             "#e6f5d0"
            ],
            [
             0.7,
             "#b8e186"
            ],
            [
             0.8,
             "#7fbc41"
            ],
            [
             0.9,
             "#4d9221"
            ],
            [
             1,
             "#276419"
            ]
           ],
           "sequential": [
            [
             0,
             "#0d0887"
            ],
            [
             0.1111111111111111,
             "#46039f"
            ],
            [
             0.2222222222222222,
             "#7201a8"
            ],
            [
             0.3333333333333333,
             "#9c179e"
            ],
            [
             0.4444444444444444,
             "#bd3786"
            ],
            [
             0.5555555555555556,
             "#d8576b"
            ],
            [
             0.6666666666666666,
             "#ed7953"
            ],
            [
             0.7777777777777778,
             "#fb9f3a"
            ],
            [
             0.8888888888888888,
             "#fdca26"
            ],
            [
             1,
             "#f0f921"
            ]
           ],
           "sequentialminus": [
            [
             0,
             "#0d0887"
            ],
            [
             0.1111111111111111,
             "#46039f"
            ],
            [
             0.2222222222222222,
             "#7201a8"
            ],
            [
             0.3333333333333333,
             "#9c179e"
            ],
            [
             0.4444444444444444,
             "#bd3786"
            ],
            [
             0.5555555555555556,
             "#d8576b"
            ],
            [
             0.6666666666666666,
             "#ed7953"
            ],
            [
             0.7777777777777778,
             "#fb9f3a"
            ],
            [
             0.8888888888888888,
             "#fdca26"
            ],
            [
             1,
             "#f0f921"
            ]
           ]
          },
          "colorway": [
           "#636efa",
           "#EF553B",
           "#00cc96",
           "#ab63fa",
           "#FFA15A",
           "#19d3f3",
           "#FF6692",
           "#B6E880",
           "#FF97FF",
           "#FECB52"
          ],
          "font": {
           "color": "#f2f5fa"
          },
          "geo": {
           "bgcolor": "rgb(17,17,17)",
           "lakecolor": "rgb(17,17,17)",
           "landcolor": "rgb(17,17,17)",
           "showlakes": true,
           "showland": true,
           "subunitcolor": "#506784"
          },
          "hoverlabel": {
           "align": "left"
          },
          "hovermode": "closest",
          "mapbox": {
           "style": "dark"
          },
          "paper_bgcolor": "rgb(17,17,17)",
          "plot_bgcolor": "rgb(17,17,17)",
          "polar": {
           "angularaxis": {
            "gridcolor": "#506784",
            "linecolor": "#506784",
            "ticks": ""
           },
           "bgcolor": "rgb(17,17,17)",
           "radialaxis": {
            "gridcolor": "#506784",
            "linecolor": "#506784",
            "ticks": ""
           }
          },
          "scene": {
           "xaxis": {
            "backgroundcolor": "rgb(17,17,17)",
            "gridcolor": "#506784",
            "gridwidth": 2,
            "linecolor": "#506784",
            "showbackground": true,
            "ticks": "",
            "zerolinecolor": "#C8D4E3"
           },
           "yaxis": {
            "backgroundcolor": "rgb(17,17,17)",
            "gridcolor": "#506784",
            "gridwidth": 2,
            "linecolor": "#506784",
            "showbackground": true,
            "ticks": "",
            "zerolinecolor": "#C8D4E3"
           },
           "zaxis": {
            "backgroundcolor": "rgb(17,17,17)",
            "gridcolor": "#506784",
            "gridwidth": 2,
            "linecolor": "#506784",
            "showbackground": true,
            "ticks": "",
            "zerolinecolor": "#C8D4E3"
           }
          },
          "shapedefaults": {
           "line": {
            "color": "#f2f5fa"
           }
          },
          "sliderdefaults": {
           "bgcolor": "#C8D4E3",
           "bordercolor": "rgb(17,17,17)",
           "borderwidth": 1,
           "tickwidth": 0
          },
          "ternary": {
           "aaxis": {
            "gridcolor": "#506784",
            "linecolor": "#506784",
            "ticks": ""
           },
           "baxis": {
            "gridcolor": "#506784",
            "linecolor": "#506784",
            "ticks": ""
           },
           "bgcolor": "rgb(17,17,17)",
           "caxis": {
            "gridcolor": "#506784",
            "linecolor": "#506784",
            "ticks": ""
           }
          },
          "title": {
           "x": 0.05
          },
          "updatemenudefaults": {
           "bgcolor": "#506784",
           "borderwidth": 0
          },
          "xaxis": {
           "automargin": true,
           "gridcolor": "#283442",
           "linecolor": "#506784",
           "ticks": "",
           "title": {
            "standoff": 15
           },
           "zerolinecolor": "#283442",
           "zerolinewidth": 2
          },
          "yaxis": {
           "automargin": true,
           "gridcolor": "#283442",
           "linecolor": "#506784",
           "ticks": "",
           "title": {
            "standoff": 15
           },
           "zerolinecolor": "#283442",
           "zerolinewidth": 2
          }
         }
        },
        "xaxis": {
         "autorange": false,
         "domain": [
          0,
          1
         ],
         "range": [
          -79.97950819672131,
          95.8811475409836
         ]
        },
        "yaxis": {
         "autorange": false,
         "domain": [
          0,
          1
         ],
         "range": [
          -62.014754098360655,
          58.47704918032787
         ],
         "scaleanchor": "x",
         "scaleratio": 1
        }
       }
      },
      "image/png": "[encoded data removed]",
      "text/html": [
       "<div>                            <div id=\"947fe0f6-2942-4450-bbce-13904250f029\" class=\"plotly-graph-div\" style=\"height:600px; width:100%;\"></div>            <script type=\"text/javascript\">                require([\"plotly\"], function(Plotly) {                    window.PLOTLYENV=window.PLOTLYENV || {};                                    if (document.getElementById(\"947fe0f6-2942-4450-bbce-13904250f029\")) {                    Plotly.newPlot(                        \"947fe0f6-2942-4450-bbce-13904250f029\",                        [],                        {\"height\":600,\"shapes\":[{\"fillcolor\":\"#aaaaff\",\"type\":\"rect\",\"x0\":-9.5,\"x1\":1.5,\"y0\":-9.5,\"y1\":1.5},{\"fillcolor\":\"#4444ff\",\"line\":{\"color\":\"#0000ff\"},\"type\":\"rect\",\"x0\":-4.5,\"x1\":-3.5,\"y0\":-4.5,\"y1\":-3.5},{\"line\":{\"color\":\"#ffffff\",\"width\":3},\"type\":\"line\",\"x0\":-4,\"x1\":-17,\"y0\":-4,\"y1\":10},{\"fillcolor\":\"#ff4444\",\"line\":{\"color\":\"#ff0000\"},\"type\":\"rect\",\"x0\":-17.5,\"x1\":-16.5,\"y0\":9.5,\"y1\":10.5},{\"fillcolor\":\"#44ff44\",\"line\":{\"color\":\"#00ff00\"},\"type\":\"rect\",\"x0\":-9.5,\"x1\":-8.5,\"y0\":0.5,\"y1\":1.5},{\"line\":{\"color\":\"#ffffff\",\"width\":3},\"type\":\"line\",\"x0\":-4,\"x1\":-9,\"y0\":-4,\"y1\":13},{\"fillcolor\":\"#ff4444\",\"line\":{\"color\":\"#ff0000\"},\"type\":\"rect\",\"x0\":-9.5,\"x1\":-8.5,\"y0\":12.5,\"y1\":13.5},{\"fillcolor\":\"#44ff44\",\"line\":{\"color\":\"#00ff00\"},\"type\":\"rect\",\"x0\":-5.5,\"x1\":-4.5,\"y0\":0.5,\"y1\":1.5},{\"line\":{\"color\":\"#ffffff\",\"width\":3},\"type\":\"line\",\"x0\":-4,\"x1\":6,\"y0\":-4,\"y1\":13},{\"fillcolor\":\"#ff4444\",\"line\":{\"color\":\"#ff0000\"},\"type\":\"rect\",\"x0\":5.5,\"x1\":6.5,\"y0\":12.5,\"y1\":13.5},{\"fillcolor\":\"#44ff44\",\"line\":{\"color\":\"#00ff00\"},\"type\":\"rect\",\"x0\":-1.5,\"x1\":-0.5,\"y0\":0.5,\"y1\":1.5},{\"line\":{\"color\":\"#ffffff\",\"width\":3},\"type\":\"line\",\"x0\":-4,\"x1\":-4,\"y0\":-4,\"y1\":12},{\"fillcolor\":\"#ff4444\",\"line\":{\"color\":\"#ff0000\"},\"type\":\"rect\",\"x0\":-4.5,\"x1\":-3.5,\"y0\":11.5,\"y1\":12.5},{\"fillcolor\":\"#44ff44\",\"line\":{\"color\":\"#00ff00\"},\"type\":\"rect\",\"x0\":-4.5,\"x1\":-3.5,\"y0\":0.5,\"y1\":1.5},{\"line\":{\"color\":\"#ffffff\",\"width\":3},\"type\":\"line\",\"x0\":-4,\"x1\":-14,\"y0\":-4,\"y1\":2},{\"fillcolor\":\"#ff4444\",\"line\":{\"color\":\"#ff0000\"},\"type\":\"rect\",\"x0\":-14.5,\"x1\":-13.5,\"y0\":1.5,\"y1\":2.5},{\"fillcolor\":\"#44ff44\",\"line\":{\"color\":\"#00ff00\"},\"type\":\"rect\",\"x0\":-9.5,\"x1\":-8.5,\"y0\":-1.5,\"y1\":-0.5},{\"line\":{\"color\":\"#ffffff\",\"width\":3},\"type\":\"line\",\"x0\":-4,\"x1\":11,\"y0\":-4,\"y1\":-4},{\"fillcolor\":\"#ff4444\",\"line\":{\"color\":\"#ff0000\"},\"type\":\"rect\",\"x0\":10.5,\"x1\":11.5,\"y0\":-4.5,\"y1\":-3.5},{\"fillcolor\":\"#44ff44\",\"line\":{\"color\":\"#00ff00\"},\"type\":\"rect\",\"x0\":0.5,\"x1\":1.5,\"y0\":-4.5,\"y1\":-3.5},{\"line\":{\"color\":\"#ffffff\",\"width\":3},\"type\":\"line\",\"x0\":-4,\"x1\":-3,\"y0\":-4,\"y1\":13},{\"fillcolor\":\"#ff4444\",\"line\":{\"color\":\"#ff0000\"},\"type\":\"rect\",\"x0\":-3.5,\"x1\":-2.5,\"y0\":12.5,\"y1\":13.5},{\"fillcolor\":\"#44ff44\",\"line\":{\"color\":\"#00ff00\"},\"type\":\"rect\",\"x0\":-4.5,\"x1\":-3.5,\"y0\":0.5,\"y1\":1.5},{\"line\":{\"color\":\"#ffffff\",\"width\":3},\"type\":\"line\",\"x0\":-4,\"x1\":-18,\"y0\":-4,\"y1\":6},{\"fillcolor\":\"#ff4444\",\"line\":{\"color\":\"#ff0000\"},\"type\":\"rect\",\"x0\":-18.5,\"x1\":-17.5,\"y0\":5.5,\"y1\":6.5},{\"fillcolor\":\"#44ff44\",\"line\":{\"color\":\"#00ff00\"},\"type\":\"rect\",\"x0\":-9.5,\"x1\":-8.5,\"y0\":-0.5,\"y1\":0.5},{\"line\":{\"color\":\"#ffffff\",\"width\":3},\"type\":\"line\",\"x0\":-4,\"x1\":-1,\"y0\":-4,\"y1\":7},{\"fillcolor\":\"#ff4444\",\"line\":{\"color\":\"#ff0000\"},\"type\":\"rect\",\"x0\":-1.5,\"x1\":-0.5,\"y0\":6.5,\"y1\":7.5},{\"fillcolor\":\"#44ff44\",\"line\":{\"color\":\"#00ff00\"},\"type\":\"rect\",\"x0\":-3.5,\"x1\":-2.5,\"y0\":0.5,\"y1\":1.5},{\"line\":{\"color\":\"#ffffff\",\"width\":3},\"type\":\"line\",\"x0\":-4,\"x1\":11,\"y0\":-4,\"y1\":2},{\"fillcolor\":\"#ff4444\",\"line\":{\"color\":\"#ff0000\"},\"type\":\"rect\",\"x0\":10.5,\"x1\":11.5,\"y0\":1.5,\"y1\":2.5},{\"fillcolor\":\"#44ff44\",\"line\":{\"color\":\"#00ff00\"},\"type\":\"rect\",\"x0\":0.5,\"x1\":1.5,\"y0\":-2.5,\"y1\":-1.5},{\"line\":{\"color\":\"#ffffff\",\"width\":3},\"type\":\"line\",\"x0\":-4,\"x1\":2,\"y0\":-4,\"y1\":-17},{\"fillcolor\":\"#ff4444\",\"line\":{\"color\":\"#ff0000\"},\"type\":\"rect\",\"x0\":1.5,\"x1\":2.5,\"y0\":-17.5,\"y1\":-16.5},{\"fillcolor\":\"#44ff44\",\"line\":{\"color\":\"#00ff00\"},\"type\":\"rect\",\"x0\":-2.5,\"x1\":-1.5,\"y0\":-9.5,\"y1\":-8.5},{\"line\":{\"color\":\"#ffffff\",\"width\":3},\"type\":\"line\",\"x0\":-4,\"x1\":-2,\"y0\":-4,\"y1\":2},{\"fillcolor\":\"#ff4444\",\"line\":{\"color\":\"#ff0000\"},\"type\":\"rect\",\"x0\":-2.5,\"x1\":-1.5,\"y0\":1.5,\"y1\":2.5},{\"fillcolor\":\"#44ff44\",\"line\":{\"color\":\"#00ff00\"},\"type\":\"rect\",\"x0\":-2.5,\"x1\":-1.5,\"y0\":0.5,\"y1\":1.5},{\"line\":{\"color\":\"#ffffff\",\"width\":3},\"type\":\"line\",\"x0\":-4,\"x1\":12,\"y0\":-4,\"y1\":20},{\"fillcolor\":\"#ff4444\",\"line\":{\"color\":\"#ff0000\"},\"type\":\"rect\",\"x0\":11.5,\"x1\":12.5,\"y0\":19.5,\"y1\":20.5},{\"fillcolor\":\"#44ff44\",\"line\":{\"color\":\"#00ff00\"},\"type\":\"rect\",\"x0\":-1.5,\"x1\":-0.5,\"y0\":0.5,\"y1\":1.5},{\"line\":{\"color\":\"#ffffff\",\"width\":3},\"type\":\"line\",\"x0\":-4,\"x1\":-4,\"y0\":-4,\"y1\":5},{\"fillcolor\":\"#ff4444\",\"line\":{\"color\":\"#ff0000\"},\"type\":\"rect\",\"x0\":-4.5,\"x1\":-3.5,\"y0\":4.5,\"y1\":5.5},{\"fillcolor\":\"#44ff44\",\"line\":{\"color\":\"#00ff00\"},\"type\":\"rect\",\"x0\":-4.5,\"x1\":-3.5,\"y0\":0.5,\"y1\":1.5},{\"line\":{\"color\":\"#ffffff\",\"width\":3},\"type\":\"line\",\"x0\":-4,\"x1\":-11,\"y0\":-4,\"y1\":19},{\"fillcolor\":\"#ff4444\",\"line\":{\"color\":\"#ff0000\"},\"type\":\"rect\",\"x0\":-11.5,\"x1\":-10.5,\"y0\":18.5,\"y1\":19.5},{\"fillcolor\":\"#44ff44\",\"line\":{\"color\":\"#00ff00\"},\"type\":\"rect\",\"x0\":-6.5,\"x1\":-5.5,\"y0\":0.5,\"y1\":1.5}],\"template\":{\"data\":{\"bar\":[{\"error_x\":{\"color\":\"#f2f5fa\"},\"error_y\":{\"color\":\"#f2f5fa\"},\"marker\":{\"line\":{\"color\":\"rgb(17,17,17)\",\"width\":0.5},\"pattern\":{\"fillmode\":\"overlay\",\"size\":10,\"solidity\":0.2}},\"type\":\"bar\"}],\"barpolar\":[{\"marker\":{\"line\":{\"color\":\"rgb(17,17,17)\",\"width\":0.5},\"pattern\":{\"fillmode\":\"overlay\",\"size\":10,\"solidity\":0.2}},\"type\":\"barpolar\"}],\"carpet\":[{\"aaxis\":{\"endlinecolor\":\"#A2B1C6\",\"gridcolor\":\"#506784\",\"linecolor\":\"#506784\",\"minorgridcolor\":\"#506784\",\"startlinecolor\":\"#A2B1C6\"},\"baxis\":{\"endlinecolor\":\"#A2B1C6\",\"gridcolor\":\"#506784\",\"linecolor\":\"#506784\",\"minorgridcolor\":\"#506784\",\"startlinecolor\":\"#A2B1C6\"},\"type\":\"carpet\"}],\"choropleth\":[{\"colorbar\":{\"outlinewidth\":0,\"ticks\":\"\"},\"type\":\"choropleth\"}],\"contour\":[{\"colorbar\":{\"outlinewidth\":0,\"ticks\":\"\"},\"colorscale\":[[0.0,\"#0d0887\"],[0.1111111111111111,\"#46039f\"],[0.2222222222222222,\"#7201a8\"],[0.3333333333333333,\"#9c179e\"],[0.4444444444444444,\"#bd3786\"],[0.5555555555555556,\"#d8576b\"],[0.6666666666666666,\"#ed7953\"],[0.7777777777777778,\"#fb9f3a\"],[0.8888888888888888,\"#fdca26\"],[1.0,\"#f0f921\"]],\"type\":\"contour\"}],\"contourcarpet\":[{\"colorbar\":{\"outlinewidth\":0,\"ticks\":\"\"},\"type\":\"contourcarpet\"}],\"heatmap\":[{\"colorbar\":{\"outlinewidth\":0,\"ticks\":\"\"},\"colorscale\":[[0.0,\"#0d0887\"],[0.1111111111111111,\"#46039f\"],[0.2222222222222222,\"#7201a8\"],[0.3333333333333333,\"#9c179e\"],[0.4444444444444444,\"#bd3786\"],[0.5555555555555556,\"#d8576b\"],[0.6666666666666666,\"#ed7953\"],[0.7777777777777778,\"#fb9f3a\"],[0.8888888888888888,\"#fdca26\"],[1.0,\"#f0f921\"]],\"type\":\"heatmap\"}],\"heatmapgl\":[{\"colorbar\":{\"outlinewidth\":0,\"ticks\":\"\"},\"colorscale\":[[0.0,\"#0d0887\"],[0.1111111111111111,\"#46039f\"],[0.2222222222222222,\"#7201a8\"],[0.3333333333333333,\"#9c179e\"],[0.4444444444444444,\"#bd3786\"],[0.5555555555555556,\"#d8576b\"],[0.6666666666666666,\"#ed7953\"],[0.7777777777777778,\"#fb9f3a\"],[0.8888888888888888,\"#fdca26\"],[1.0,\"#f0f921\"]],\"type\":\"heatmapgl\"}],\"histogram\":[{\"marker\":{\"pattern\":{\"fillmode\":\"overlay\",\"size\":10,\"solidity\":0.2}},\"type\":\"histogram\"}],\"histogram2d\":[{\"colorbar\":{\"outlinewidth\":0,\"ticks\":\"\"},\"colorscale\":[[0.0,\"#0d0887\"],[0.1111111111111111,\"#46039f\"],[0.2222222222222222,\"#7201a8\"],[0.3333333333333333,\"#9c179e\"],[0.4444444444444444,\"#bd3786\"],[0.5555555555555556,\"#d8576b\"],[0.6666666666666666,\"#ed7953\"],[0.7777777777777778,\"#fb9f3a\"],[0.8888888888888888,\"#fdca26\"],[1.0,\"#f0f921\"]],\"type\":\"histogram2d\"}],\"histogram2dcontour\":[{\"colorbar\":{\"outlinewidth\":0,\"ticks\":\"\"},\"colorscale\":[[0.0,\"#0d0887\"],[0.1111111111111111,\"#46039f\"],[0.2222222222222222,\"#7201a8\"],[0.3333333333333333,\"#9c179e\"],[0.4444444444444444,\"#bd3786\"],[0.5555555555555556,\"#d8576b\"],[0.6666666666666666,\"#ed7953\"],[0.7777777777777778,\"#fb9f3a\"],[0.8888888888888888,\"#fdca26\"],[1.0,\"#f0f921\"]],\"type\":\"histogram2dcontour\"}],\"mesh3d\":[{\"colorbar\":{\"outlinewidth\":0,\"ticks\":\"\"},\"type\":\"mesh3d\"}],\"parcoords\":[{\"line\":{\"colorbar\":{\"outlinewidth\":0,\"ticks\":\"\"}},\"type\":\"parcoords\"}],\"pie\":[{\"automargin\":true,\"type\":\"pie\"}],\"scatter\":[{\"marker\":{\"line\":{\"color\":\"#283442\"}},\"type\":\"scatter\"}],\"scatter3d\":[{\"line\":{\"colorbar\":{\"outlinewidth\":0,\"ticks\":\"\"}},\"marker\":{\"colorbar\":{\"outlinewidth\":0,\"ticks\":\"\"}},\"type\":\"scatter3d\"}],\"scattercarpet\":[{\"marker\":{\"colorbar\":{\"outlinewidth\":0,\"ticks\":\"\"}},\"type\":\"scattercarpet\"}],\"scattergeo\":[{\"marker\":{\"colorbar\":{\"outlinewidth\":0,\"ticks\":\"\"}},\"type\":\"scattergeo\"}],\"scattergl\":[{\"marker\":{\"line\":{\"color\":\"#283442\"}},\"type\":\"scattergl\"}],\"scattermapbox\":[{\"marker\":{\"colorbar\":{\"outlinewidth\":0,\"ticks\":\"\"}},\"type\":\"scattermapbox\"}],\"scatterpolar\":[{\"marker\":{\"colorbar\":{\"outlinewidth\":0,\"ticks\":\"\"}},\"type\":\"scatterpolar\"}],\"scatterpolargl\":[{\"marker\":{\"colorbar\":{\"outlinewidth\":0,\"ticks\":\"\"}},\"type\":\"scatterpolargl\"}],\"scatterternary\":[{\"marker\":{\"colorbar\":{\"outlinewidth\":0,\"ticks\":\"\"}},\"type\":\"scatterternary\"}],\"surface\":[{\"colorbar\":{\"outlinewidth\":0,\"ticks\":\"\"},\"colorscale\":[[0.0,\"#0d0887\"],[0.1111111111111111,\"#46039f\"],[0.2222222222222222,\"#7201a8\"],[0.3333333333333333,\"#9c179e\"],[0.4444444444444444,\"#bd3786\"],[0.5555555555555556,\"#d8576b\"],[0.6666666666666666,\"#ed7953\"],[0.7777777777777778,\"#fb9f3a\"],[0.8888888888888888,\"#fdca26\"],[1.0,\"#f0f921\"]],\"type\":\"surface\"}],\"table\":[{\"cells\":{\"fill\":{\"color\":\"#506784\"},\"line\":{\"color\":\"rgb(17,17,17)\"}},\"header\":{\"fill\":{\"color\":\"#2a3f5f\"},\"line\":{\"color\":\"rgb(17,17,17)\"}},\"type\":\"table\"}]},\"layout\":{\"annotationdefaults\":{\"arrowcolor\":\"#f2f5fa\",\"arrowhead\":0,\"arrowwidth\":1},\"autotypenumbers\":\"strict\",\"coloraxis\":{\"colorbar\":{\"outlinewidth\":0,\"ticks\":\"\"}},\"colorscale\":{\"diverging\":[[0,\"#8e0152\"],[0.1,\"#c51b7d\"],[0.2,\"#de77ae\"],[0.3,\"#f1b6da\"],[0.4,\"#fde0ef\"],[0.5,\"#f7f7f7\"],[0.6,\"#e6f5d0\"],[0.7,\"#b8e186\"],[0.8,\"#7fbc41\"],[0.9,\"#4d9221\"],[1,\"#276419\"]],\"sequential\":[[0.0,\"#0d0887\"],[0.1111111111111111,\"#46039f\"],[0.2222222222222222,\"#7201a8\"],[0.3333333333333333,\"#9c179e\"],[0.4444444444444444,\"#bd3786\"],[0.5555555555555556,\"#d8576b\"],[0.6666666666666666,\"#ed7953\"],[0.7777777777777778,\"#fb9f3a\"],[0.8888888888888888,\"#fdca26\"],[1.0,\"#f0f921\"]],\"sequentialminus\":[[0.0,\"#0d0887\"],[0.1111111111111111,\"#46039f\"],[0.2222222222222222,\"#7201a8\"],[0.3333333333333333,\"#9c179e\"],[0.4444444444444444,\"#bd3786\"],[0.5555555555555556,\"#d8576b\"],[0.6666666666666666,\"#ed7953\"],[0.7777777777777778,\"#fb9f3a\"],[0.8888888888888888,\"#fdca26\"],[1.0,\"#f0f921\"]]},\"colorway\":[\"#636efa\",\"#EF553B\",\"#00cc96\",\"#ab63fa\",\"#FFA15A\",\"#19d3f3\",\"#FF6692\",\"#B6E880\",\"#FF97FF\",\"#FECB52\"],\"font\":{\"color\":\"#f2f5fa\"},\"geo\":{\"bgcolor\":\"rgb(17,17,17)\",\"lakecolor\":\"rgb(17,17,17)\",\"landcolor\":\"rgb(17,17,17)\",\"showlakes\":true,\"showland\":true,\"subunitcolor\":\"#506784\"},\"hoverlabel\":{\"align\":\"left\"},\"hovermode\":\"closest\",\"mapbox\":{\"style\":\"dark\"},\"paper_bgcolor\":\"rgb(17,17,17)\",\"plot_bgcolor\":\"rgb(17,17,17)\",\"polar\":{\"angularaxis\":{\"gridcolor\":\"#506784\",\"linecolor\":\"#506784\",\"ticks\":\"\"},\"bgcolor\":\"rgb(17,17,17)\",\"radialaxis\":{\"gridcolor\":\"#506784\",\"linecolor\":\"#506784\",\"ticks\":\"\"}},\"scene\":{\"xaxis\":{\"backgroundcolor\":\"rgb(17,17,17)\",\"gridcolor\":\"#506784\",\"gridwidth\":2,\"linecolor\":\"#506784\",\"showbackground\":true,\"ticks\":\"\",\"zerolinecolor\":\"#C8D4E3\"},\"yaxis\":{\"backgroundcolor\":\"rgb(17,17,17)\",\"gridcolor\":\"#506784\",\"gridwidth\":2,\"linecolor\":\"#506784\",\"showbackground\":true,\"ticks\":\"\",\"zerolinecolor\":\"#C8D4E3\"},\"zaxis\":{\"backgroundcolor\":\"rgb(17,17,17)\",\"gridcolor\":\"#506784\",\"gridwidth\":2,\"linecolor\":\"#506784\",\"showbackground\":true,\"ticks\":\"\",\"zerolinecolor\":\"#C8D4E3\"}},\"shapedefaults\":{\"line\":{\"color\":\"#f2f5fa\"}},\"sliderdefaults\":{\"bgcolor\":\"#C8D4E3\",\"bordercolor\":\"rgb(17,17,17)\",\"borderwidth\":1,\"tickwidth\":0},\"ternary\":{\"aaxis\":{\"gridcolor\":\"#506784\",\"linecolor\":\"#506784\",\"ticks\":\"\"},\"baxis\":{\"gridcolor\":\"#506784\",\"linecolor\":\"#506784\",\"ticks\":\"\"},\"bgcolor\":\"rgb(17,17,17)\",\"caxis\":{\"gridcolor\":\"#506784\",\"linecolor\":\"#506784\",\"ticks\":\"\"}},\"title\":{\"x\":0.05},\"updatemenudefaults\":{\"bgcolor\":\"#506784\",\"borderwidth\":0},\"xaxis\":{\"automargin\":true,\"gridcolor\":\"#283442\",\"linecolor\":\"#506784\",\"ticks\":\"\",\"title\":{\"standoff\":15},\"zerolinecolor\":\"#283442\",\"zerolinewidth\":2},\"yaxis\":{\"automargin\":true,\"gridcolor\":\"#283442\",\"linecolor\":\"#506784\",\"ticks\":\"\",\"title\":{\"standoff\":15},\"zerolinecolor\":\"#283442\",\"zerolinewidth\":2}}},\"xaxis\":{\"range\":[-25,17]},\"yaxis\":{\"range\":[-25,17],\"scaleanchor\":\"x\",\"scaleratio\":1}},                        {\"responsive\": true}                    ).then(function(){\n",
       "                            \n",
       "var gd = document.getElementById('947fe0f6-2942-4450-bbce-13904250f029');\n",
       "var x = new MutationObserver(function (mutations, observer) {{\n",
       "        var display = window.getComputedStyle(gd).display;\n",
       "        if (!display || display === 'none') {{\n",
       "            console.log([gd, 'removed!']);\n",
       "            Plotly.purge(gd);\n",
       "            observer.disconnect();\n",
       "        }}\n",
       "}});\n",
       "\n",
       "// Listen for the removal of the full notebook cells\n",
       "var notebookContainer = gd.closest('#notebook-container');\n",
       "if (notebookContainer) {{\n",
       "    x.observe(notebookContainer, {childList: true});\n",
       "}}\n",
       "\n",
       "// Listen for the clearing of the current output cell\n",
       "var outputEl = gd.closest('.output');\n",
       "if (outputEl) {{\n",
       "    x.observe(outputEl, {childList: true});\n",
       "}}\n",
       "\n",
       "                        })                };                });            </script>        </div>"
      ]
     },
     "metadata": {},
     "output_type": "display_data"
    }
   ],
   "source": [
    "origin = np.random.randint(-5, 5, size=(2,))\n",
    "plot_random_intersections(origin, 5, 15, rand_rad=20)"
   ]
  }
 ],
 "metadata": {
  "kernelspec": {
   "display_name": "Python 3 (ipykernel)",
   "language": "python",
   "name": "python3"
  },
  "language_info": {
   "codemirror_mode": {
    "name": "ipython",
    "version": 3
   },
   "file_extension": ".py",
   "mimetype": "text/x-python",
   "name": "python",
   "nbconvert_exporter": "python",
   "pygments_lexer": "ipython3",
   "version": "3.8.10"
  },
  "widgets": {
   "application/vnd.jupyter.widget-state+json": {
    "state": {},
    "version_major": 2,
    "version_minor": 0
   }
  }
 },
 "nbformat": 4,
 "nbformat_minor": 5
}
